{
 "cells": [
  {
   "cell_type": "code",
   "execution_count": 99,
   "metadata": {},
   "outputs": [
    {
     "name": "stdout",
     "output_type": "stream",
     "text": [
      "\u001b[96mPrecio de Lista $ 40 \u001b[0m\n",
      "\u001b[91mNo hay Descuento\u001b[0m\n",
      "\u001b[91mNo hay Aumento\u001b[0m\n",
      "\u001b[95mNo hay Aumento de Proveedores\u001b[0m\n"
     ]
    }
   ],
   "source": [
    "class Colores:\n",
    "    RESET = '\\033[0m'  # Restaurar estilo por defecto\n",
    "    NEGRITA = '\\033[1m'\n",
    "    SUBRAYADO = '\\033[4m'\n",
    "    INVERTIDO = '\\033[7m'\n",
    "\n",
    "class ColoresTexto:\n",
    "    ROJO = '\\033[91m'\n",
    "    VERDE = '\\033[92m'\n",
    "    AMARILLO = '\\033[93m'\n",
    "    AZUL = '\\033[94m'\n",
    "    MAGENTA = '\\033[95m'\n",
    "    CYAN = '\\033[96m'\n",
    "\n",
    "# Ejemplo de uso\n",
    "precio_original = 40\n",
    "precio_actual = 0\n",
    "porcentaje_descuento = 0\n",
    "porcentaje_de_aumento = 0\n",
    "  \n",
    "\n",
    "def calcular_descuento(precio_original, porcentaje_descuento):\n",
    "    descuento = round(precio_original * porcentaje_descuento / 100)\n",
    "    if porcentaje_descuento == 0:\n",
    "        print(ColoresTexto.ROJO +\"No hay Descuento\"+ Colores.RESET)\n",
    "    elif descuento > 0:\n",
    "        print(ColoresTexto.VERDE +\"Descuento de:\",\"$\", descuento,\"queda en Efectivo:\", \"$\",precio_original-descuento,\"\" + Colores.RESET)\n",
    "    return descuento\n",
    "\n",
    "def calcular_aumento(precio_original, porcentaje_de_aumento):\n",
    "    aumento = round(precio_original * porcentaje_de_aumento) / 100 + precio_original\n",
    "    if porcentaje_de_aumento == 0:\n",
    "        print(ColoresTexto.ROJO +\"No hay Aumento\"+ Colores.RESET)\n",
    "    elif aumento > 0: \n",
    "        print(ColoresTexto.VERDE+\"Aumento del:\",porcentaje_de_aumento,\"%\", \"Precio en $\",round(aumento),\"una diferencia de $\",round(aumento-precio_original),\"\"+ Colores.RESET)\n",
    "    return aumento\n",
    "\n",
    "def calcular_precio_actual(precio_actual, precio_original):\n",
    "    diferencia = (precio_actual - precio_original)/precio_original * 100\n",
    "    if precio_actual == 0:\n",
    "        print(ColoresTexto.MAGENTA +\"No hay Aumento de Proveedores\"+ Colores.RESET)\n",
    "    elif diferencia > 0:\n",
    "        print(ColoresTexto.AMARILLO +\"Hay aumento de Proveedores del \",round(diferencia),\"%\",\"una suma de $\",precio_actual - precio_original,\"\"+ Colores.NEGRITA)\n",
    "    return diferencia\n",
    "\n",
    "print(ColoresTexto.CYAN+\"Precio de Lista $\",precio_original,\"\"+ Colores.RESET)\n",
    "descuento = calcular_descuento(precio_original, porcentaje_descuento)\n",
    "aumento = calcular_aumento(precio_original, porcentaje_de_aumento)\n",
    "diferencia = calcular_precio_actual(precio_actual, precio_original)"
   ]
  }
 ],
 "metadata": {
  "kernelspec": {
   "display_name": "Python 3",
   "language": "python",
   "name": "python3"
  },
  "language_info": {
   "codemirror_mode": {
    "name": "ipython",
    "version": 3
   },
   "file_extension": ".py",
   "mimetype": "text/x-python",
   "name": "python",
   "nbconvert_exporter": "python",
   "pygments_lexer": "ipython3",
   "version": "3.10.11"
  },
  "orig_nbformat": 4
 },
 "nbformat": 4,
 "nbformat_minor": 2
}
